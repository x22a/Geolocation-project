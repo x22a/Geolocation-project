{
 "cells": [
  {
   "cell_type": "code",
   "execution_count": 2,
   "metadata": {},
   "outputs": [],
   "source": [
    "import pandas as pd\n",
    "from pymongo import MongoClient\n",
    "import geopandas as gpd\n",
    "import sys\n",
    "sys.path.append(\"../\") # go to parent dir\n",
    "from src.data_cleaning_functions import asGeoJSON, finding"
   ]
  },
  {
   "cell_type": "code",
   "execution_count": null,
   "metadata": {},
   "outputs": [],
   "source": [
    "client = MongoClient(\"mongodb://localhost/geo\")\n",
    "db = client.get_database()"
   ]
  },
  {
   "cell_type": "code",
   "execution_count": null,
   "metadata": {},
   "outputs": [],
   "source": [
    "companies = list(db[\"crunch\"].find({\"founded_year\": {\"$gt\": 2003}},{\"name\":1,\"offices\":1,\"category_code\":1}))"
   ]
  },
  {
   "cell_type": "code",
   "execution_count": null,
   "metadata": {},
   "outputs": [],
   "source": [
    "df = pd.DataFrame(companies)"
   ]
  },
  {
   "cell_type": "code",
   "execution_count": null,
   "metadata": {},
   "outputs": [],
   "source": [
    "df = df.explode('offices')\n",
    "dfOfficeData = df[[\"offices\"]].apply(lambda r: r.offices, result_type=\"expand\", axis=1)\n",
    "cleanData = pd.concat([df,dfOfficeData], axis=1)\n",
    "cleanData = cleanData.drop(columns=[\"_id\",\"offices\"])"
   ]
  },
  {
   "cell_type": "code",
   "execution_count": null,
   "metadata": {},
   "outputs": [],
   "source": [
    "cleanData[\"location\"] = cleanData[[\"latitude\",\"longitude\"]].apply(lambda x:asGeoJSON(x.latitude,x.longitude), axis=1)"
   ]
  },
  {
   "cell_type": "code",
   "execution_count": null,
   "metadata": {},
   "outputs": [],
   "source": [
    "cleanData = cleanData.drop(columns=[\"latitude\",\"longitude\"])"
   ]
  },
  {
   "cell_type": "code",
   "execution_count": null,
   "metadata": {},
   "outputs": [],
   "source": [
    "cleanData.to_json(\"./cleaned_offices.json\", orient=\"records\")"
   ]
  },
  {
   "cell_type": "code",
   "execution_count": null,
   "metadata": {},
   "outputs": [],
   "source": [
    "starbucks = pd.read_csv(\"../input/starbucksLocation.csv\")"
   ]
  },
  {
   "cell_type": "code",
   "execution_count": null,
   "metadata": {},
   "outputs": [],
   "source": [
    "starbucks[\"location\"] = starbucks[[\"Latitude\",\"Longitude\"]].apply(lambda x:asGeoJSON(x.Latitude,x.Longitude), axis=1)\n",
    "cleanStarbucks = starbucks.drop(columns=[\"Latitude\",\"Longitude\"])\n",
    "cleanStarbucks.to_json(\"./cleaned_starbucks.json\", orient=\"records\")"
   ]
  },
  {
   "cell_type": "code",
   "execution_count": null,
   "metadata": {},
   "outputs": [],
   "source": [
    "airports = pd.read_csv(\"../input/GlobalAirportDatabase.txt\", sep=\":\", names=[\"ICAO Code\", \"IATA Code\", \"Airport Name\", \"City/Town\", \"Country\", \"Latitude Degrees\", \"Latitude Minutes\", \"Latitude Seconds\", \"Latitude Direction\", \"Longitude Degrees\", \"Longitude Minutes\", \"Longitude Seconds\", \"Longitude Direction\", \"Altitude\", \"Latitude\", \"Longitude\"])"
   ]
  },
  {
   "cell_type": "code",
   "execution_count": null,
   "metadata": {},
   "outputs": [],
   "source": [
    "airports.loc[airports[\"Airport Name\"] == \"BARAJAS\"]"
   ]
  },
  {
   "cell_type": "code",
   "execution_count": null,
   "metadata": {},
   "outputs": [],
   "source": [
    "airports = airports.drop(columns=[\"ICAO Code\", \"IATA Code\", \"Latitude Degrees\", \"Latitude Minutes\", \"Latitude Seconds\", \"Latitude Direction\", \"Longitude Degrees\", \"Longitude Minutes\", \"Longitude Seconds\", \"Longitude Direction\", \"Altitude\"])"
   ]
  },
  {
   "cell_type": "code",
   "execution_count": null,
   "metadata": {},
   "outputs": [],
   "source": [
    "airports = airports.drop(airports[airports.Latitude == 0.0].index)"
   ]
  },
  {
   "cell_type": "code",
   "execution_count": null,
   "metadata": {},
   "outputs": [],
   "source": [
    "airports[\"location\"] = airports[[\"Latitude\",\"Longitude\"]].apply(lambda x:asGeoJSON(x.Latitude,x.Longitude), axis=1)\n",
    "cleanAirports = airports.drop(columns=[\"Latitude\",\"Longitude\"])\n",
    "cleanAirports.to_json(\"./cleaned_airports.json\", orient=\"records\")"
   ]
  },
  {
   "cell_type": "code",
   "execution_count": null,
   "metadata": {},
   "outputs": [],
   "source": [
    "df = finding(starbucksDistance = 200) # You can change the maximum distance to a Starbucks or an Airport by passing the following args:\n",
    "               # starbucksDistance = {distance in meters}, airportDistance = {distance in meters}"
   ]
  },
  {
   "cell_type": "code",
   "execution_count": null,
   "metadata": {},
   "outputs": [],
   "source": [
    "df = df.sort_values(by=\"Airports_Close\", ascending=False)\n",
    "gdf = gpd.GeoDataFrame(df)\n",
    "gdf = gpd.GeoDataFrame(df, geometry=gpd.points_from_xy(df.Longitude, df.Latitude))\n",
    "gdf = gdf.drop(columns=[\"Latitude\", \"Longitude\"])"
   ]
  },
  {
   "cell_type": "code",
   "execution_count": null,
   "metadata": {},
   "outputs": [],
   "source": [
    "gdf.to_file(\"./offices.geojson\", driver='GeoJSON')"
   ]
  }
 ],
 "metadata": {
  "kernelspec": {
   "display_name": "Python 3",
   "language": "python",
   "name": "python3"
  },
  "language_info": {
   "codemirror_mode": {
    "name": "ipython",
    "version": 3
   },
   "file_extension": ".py",
   "mimetype": "text/x-python",
   "name": "python",
   "nbconvert_exporter": "python",
   "pygments_lexer": "ipython3",
   "version": "3.7.5"
  }
 },
 "nbformat": 4,
 "nbformat_minor": 2
}
